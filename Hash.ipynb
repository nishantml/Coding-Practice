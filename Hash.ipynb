{
 "cells": [
  {
   "cell_type": "code",
   "execution_count": 5,
   "metadata": {},
   "outputs": [
    {
     "data": {
      "text/plain": [
       "True"
      ]
     },
     "execution_count": 5,
     "metadata": {},
     "output_type": "execute_result"
    }
   ],
   "source": [
    "\"\"\"\n",
    "217. Contains Duplicate\n",
    "Given an array of integers, find if the array contains any duplicates.\n",
    "Your function should return true if any value appears at least twice in the array, \n",
    "and it should return false if every element is distinct.\n",
    "\n",
    "Input: [1,2,3,1]\n",
    "Output: true\n",
    "\"\"\"\n",
    "from typing import List\n",
    "def containsDuplicate(nums: List[int]) -> bool:\n",
    "    Hash = dict();\n",
    "    for val in nums:\n",
    "        if val in Hash:\n",
    "            Hash[val] = Hash[val] + 1\n",
    "            if Hash[val] > 1:\n",
    "                return True\n",
    "        else:\n",
    "            Hash[val] = 1\n",
    "    return False  \n",
    "\n",
    "containsDuplicate([1,2,3,1])"
   ]
  },
  {
   "cell_type": "code",
   "execution_count": 19,
   "metadata": {},
   "outputs": [
    {
     "data": {
      "text/plain": [
       "3"
      ]
     },
     "execution_count": 19,
     "metadata": {},
     "output_type": "execute_result"
    }
   ],
   "source": [
    "\"\"\"\n",
    "961. N-Repeated Element in Size 2N Array\n",
    "In a array A of size 2N, there are N+1 unique elements, and exactly one of these elements is repeated N times.\n",
    "Return the element repeated N times.\n",
    "\n",
    "Input: [1,2,3,3]\n",
    "Output: 3\n",
    "\"\"\"\n",
    "def repeatedNTimes(A: List[int]) -> int:\n",
    "    Hash = dict()\n",
    "    size = len(A)//2\n",
    "    for i in range(len(A)):\n",
    "        if A[i] in Hash:\n",
    "            Hash[A[i]] = Hash[A[i]] + 1\n",
    "        else :\n",
    "            Hash[A[i]]=1\n",
    "        if(Hash[A[i]] == size):\n",
    "            return A[i]\n",
    "repeatedNTimes([1,2,3,3])"
   ]
  },
  {
   "cell_type": "code",
   "execution_count": 20,
   "metadata": {},
   "outputs": [
    {
     "name": "stdout",
     "output_type": "stream",
     "text": [
      "True\n",
      "False\n"
     ]
    }
   ],
   "source": [
    "\"\"\"\n",
    "242. Valid Anagram\n",
    "Given two strings s and t , write a function to determine if t is an anagram of s.\n",
    "\n",
    "Input: s = \"anagram\", t = \"nagaram\"\n",
    "Output: true\n",
    "\"\"\"\n",
    "def isAnagram(s: str, t: str) -> bool:\n",
    "    strs = [s,t] \n",
    "    AnaList  = []\n",
    "    for x in strs:\n",
    "        freq = [0]*26\n",
    "        for y in x:\n",
    "            freq[ord(y)-ord('a')] +=1\n",
    "        key = tuple(freq)\n",
    "        AnaList.append(key)\n",
    "    if(AnaList[0] == AnaList[1]):\n",
    "        return True\n",
    "    else:\n",
    "        return False\n",
    "\n",
    "print(isAnagram(\"anagram\",\"nagaram\"))\n",
    "print(isAnagram(\"rat\",\"car\"))"
   ]
  },
  {
   "cell_type": "code",
   "execution_count": 7,
   "metadata": {},
   "outputs": [
    {
     "name": "stdout",
     "output_type": "stream",
     "text": [
      "http://tinyurl.com/01234\n",
      "https://leetcode.com/problems/design-tinyurl\n"
     ]
    }
   ],
   "source": [
    "\"\"\"\n",
    "535. Encode and Decode TinyURL\n",
    "\n",
    "Note: This is a companion problem to the System Design problem: Design TinyURL.\n",
    "\n",
    "TinyURL is a URL shortening service where you enter a URL such as \n",
    "https://leetcode.com/problems/design-tinyurl and it returns a short URL such as http://tinyurl.com/4e9iAk.\n",
    "\n",
    "Design the encode and decode methods for the TinyURL service. \n",
    "There is no restriction on how your encode/decode algorithm should work.\n",
    "You just need to ensure that a URL can be encoded to a tiny URL and the tiny URL can be decoded to the original URL.\n",
    "\"\"\"\n",
    "\n",
    "class Codec:\n",
    "\n",
    "    Hash = dict()\n",
    "\n",
    "    def encode(self, longUrl: str) -> str:\n",
    "        arr = longUrl.split(\"/\")\n",
    "#         print(arr)\n",
    "        url = \"\"\n",
    "        for x in range(0,len(arr)):\n",
    "#             print(x)\n",
    "            self.Hash[x] = arr[x]\n",
    "            url += str(x)\n",
    "        \n",
    "        return \"http://tinyurl.com/\"+url\n",
    "\n",
    "    def decode(self, shortUrl: str) -> str:\n",
    "        \"\"\"Decodes a shortened URL to its original URL.\n",
    "        \"\"\"\n",
    "#         print(shortUrl,self.Hash)\n",
    "        short = shortUrl.split('http://tinyurl.com/')\n",
    "        url = \"\"\n",
    "        for x in short[1]:\n",
    "            url += self.Hash[int(x)]\n",
    "            if(x!=short[1][-1]):\n",
    "                url+=\"/\"\n",
    "        \n",
    "        print(url)\n",
    "        return url\n",
    "        \n",
    "        \n",
    "\n",
    "codec = Codec()\n",
    "# codec.decode(codec.encode(\"https://leetcode.com/problems/design-tinyurl\"))\n",
    "encodedUrl = codec.encode(\"https://leetcode.com/problems/design-tinyurl\")\n",
    "print(encodedUrl)\n",
    "decodedUrl = codec.decode(encodedUrl)"
   ]
  },
  {
   "cell_type": "code",
   "execution_count": 10,
   "metadata": {},
   "outputs": [
    {
     "data": {
      "text/plain": [
       "2"
      ]
     },
     "execution_count": 10,
     "metadata": {},
     "output_type": "execute_result"
    }
   ],
   "source": [
    "# https://practice.geeksforgeeks.org/problems/find-distinct-elements/0\n",
    "\"\"\"\n",
    "1. Find distinct elements\n",
    "Given a N x N matrix. Write a program to find count of all the distinct elements common to all rows of the matrix. Print count of such elements.\n",
    "\n",
    "Input:\n",
    "First line of input contains a single integer T which denotes the number of test cases. T test cases follows. First line of each test case contains a single integer N which denotes the dimension of matrix. Second line of each test case contains N*N space separated integers which denotes elements of the matrix.\n",
    "\n",
    "Output:\n",
    "For each test case, print count of all the distinct elements common to all rows of the matrix.\n",
    "\n",
    "Constraints:\n",
    "1 <= T <= 100\n",
    "1 <= N <= 1000\n",
    "\n",
    "Example:\n",
    "Input:\n",
    "2\n",
    "4\n",
    "2 1 4 3 1 2 3 2 3 6 2 3 5 2 5 3\n",
    "5\n",
    "12 1 14 3 16 14 2 1 3 35 14 1 14 3 11 14 25 3 2 1 1 18 3 21 14\n",
    "\n",
    "Output:\n",
    "2\n",
    "3\n",
    "\"\"\"\n",
    "\n",
    "\n",
    "def Finddistinctelements(A):\n",
    "    \"\"\"Find distinct elements\"\"\"\n",
    "    distinctCount = 0\n",
    "    Hash = dict()\n",
    "    for i in range(len(A)):\n",
    "        if A[i] in Hash:\n",
    "            Hash[A[i]] = Hash[A[i]] +1\n",
    "        else:\n",
    "            Hash[A[i]] = 1\n",
    "    for i in Hash:\n",
    "        if Hash[i] == 1:\n",
    "            distinctCount +=1\n",
    "        \n",
    "    return distinctCount\n",
    "    \n",
    "    \n",
    "\n",
    "Finddistinctelements([2,1,4,3,1,2, 3, 2, 3, 6, 2, 3, 5, 2, 5, 3])"
   ]
  },
  {
   "cell_type": "code",
   "execution_count": 15,
   "metadata": {},
   "outputs": [
    {
     "data": {
      "text/plain": [
       "True"
      ]
     },
     "execution_count": 15,
     "metadata": {},
     "output_type": "execute_result"
    }
   ],
   "source": [
    "\"\"\"\n",
    "2. Array Subset of another array\n",
    "\n",
    "Given two arrays: arr1[0..m-1] of size m and arr2[0..n-1] of size n. Task is to check whether arr2[] is a subset of arr1[] or not. Both the arrays can be both unsorted or sorted. It may be assumed that elements in both array are distinct.\n",
    "\n",
    "Input:\n",
    "The first line of input contains an integer T denoting the number of test cases. Then T test cases follow. Each test case contains an two integers m and n denoting the size of arr1 and arr2 respectively. The following two lines contains the space separated elements of arr1 and arr2 respectively.\n",
    "\n",
    "Output:\n",
    "Print \"Yes\"(without quotes) if arr2 is subset of arr1.\n",
    "Print \"No\"(without quotes) if arr2 is not subset of arr1.\n",
    "\n",
    "Constraints:\n",
    "1 <= T <= 100\n",
    "1 <= m,n <= 105\n",
    "1 <= arr1[i], arr2[j] <= 105\n",
    "\n",
    "Example:\n",
    "Input:\n",
    "3\n",
    "6 4\n",
    "11 1 13 21 3 7\n",
    "11 3 7 1\n",
    "6 3\n",
    "1 2 3 4 5 6\n",
    "1 2 4\n",
    "5 3\n",
    "10 5 2 23 19\n",
    "19 5 3\n",
    "\n",
    "Output:\n",
    "Yes\n",
    "Yes\n",
    "No\n",
    "\n",
    "Explanation:\n",
    "Testcase 1: (11, 3, 7, 1) is a subset of first array.\n",
    "\"\"\"\n",
    "\n",
    "\n",
    "def ArraySubsetofanotherarray(arr1,arr2):\n",
    "    \"Array Subset of another array\"\n",
    "    subsetsCount = 0\n",
    "    for val in arr2:\n",
    "        if val in arr1:\n",
    "            subsetsCount +=1\n",
    "    \n",
    "    if len(arr2) == subsetsCount:\n",
    "        return True\n",
    "    else:\n",
    "        return False\n",
    "        \n",
    "\n",
    "ArraySubsetofanotherarray([11 ,1 ,13, 21, 3, 7],[11 ,3, 7, 1])"
   ]
  },
  {
   "cell_type": "code",
   "execution_count": null,
   "metadata": {},
   "outputs": [],
   "source": []
  }
 ],
 "metadata": {
  "kernelspec": {
   "display_name": "Python 3",
   "language": "python",
   "name": "python3"
  },
  "language_info": {
   "codemirror_mode": {
    "name": "ipython",
    "version": 3
   },
   "file_extension": ".py",
   "mimetype": "text/x-python",
   "name": "python",
   "nbconvert_exporter": "python",
   "pygments_lexer": "ipython3",
   "version": "3.7.4"
  }
 },
 "nbformat": 4,
 "nbformat_minor": 4
}
