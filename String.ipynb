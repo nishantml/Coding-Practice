{
 "cells": [
  {
   "cell_type": "code",
   "execution_count": 5,
   "metadata": {},
   "outputs": [
    {
     "name": "stdout",
     "output_type": "stream",
     "text": [
      "A B C D E F G H I J K L M N O P Q R S T U V W X Y Z "
     ]
    }
   ],
   "source": [
    "def letters():\n",
    "    start = 65\n",
    "    for i in range(26):\n",
    "        print(chr(start),end=\" \")\n",
    "        start+=1\n",
    "letters()"
   ]
  },
  {
   "cell_type": "code",
   "execution_count": 4,
   "metadata": {},
   "outputs": [
    {
     "name": "stdout",
     "output_type": "stream",
     "text": [
      "Z Y X W V U T S R Q P O N M L K J I H G F E D C B A "
     ]
    }
   ],
   "source": [
    "def reverseletters():\n",
    "    start = 65+26\n",
    "    for i in range(26):\n",
    "        print(chr(start-1),end=\" \")\n",
    "        start-=1\n",
    "reverseletters()"
   ]
  },
  {
   "cell_type": "code",
   "execution_count": 1,
   "metadata": {},
   "outputs": [
    {
     "name": "stdout",
     "output_type": "stream",
     "text": [
      "e\n",
      "l\n"
     ]
    }
   ],
   "source": [
    "newStr = \"geeksforgeeks\"\n",
    "\n",
    "def checkFirstRepeatingChar(newStr):\n",
    "    Hash = dict();\n",
    "    for c in newStr:\n",
    "        if c not in Hash:\n",
    "            Hash[c] = 1\n",
    "        else:\n",
    "            return c\n",
    "    \n",
    "print(checkFirstRepeatingChar(newStr))\n",
    "print(checkFirstRepeatingChar('hello geeks'))"
   ]
  },
  {
   "cell_type": "code",
   "execution_count": 2,
   "metadata": {},
   "outputs": [
    {
     "name": "stdout",
     "output_type": "stream",
     "text": [
      "1[.]1[.]1[.]1\n"
     ]
    }
   ],
   "source": [
    "\"\"\"\n",
    "1108. Defanging an IP Address\n",
    "\n",
    "Given a valid (IPv4) IP address, return a defanged version of that IP address.\n",
    "\n",
    "A defanged IP address replaces every period \".\" with \"[.]\".\n",
    "\n",
    "Input: address = \"1.1.1.1\"\n",
    "Output: \"1[.]1[.]1[.]1\"\n",
    "\"\"\"\n",
    "\n",
    "class Solution:\n",
    "    def defangIPaddr(self, address: str) -> str:\n",
    "        new = address.split(\".\")\n",
    "#         print(new)\n",
    "        newAddress = \"\"\n",
    "        for i in range(len(new)):\n",
    "            if i != 0:\n",
    "                newAddress += \"[.]\" + new[i]\n",
    "            else:\n",
    "                newAddress += new[i]\n",
    "        return newAddress\n",
    "    \n",
    "sol = Solution();\n",
    "print(sol.defangIPaddr(\"1.1.1.1\"))"
   ]
  },
  {
   "cell_type": "code",
   "execution_count": 5,
   "metadata": {},
   "outputs": [
    {
     "name": "stdout",
     "output_type": "stream",
     "text": [
      "3\n",
      "4\n"
     ]
    }
   ],
   "source": [
    "\"\"\"\n",
    "1221. Split a String in Balanced Strings\n",
    "\n",
    "Balanced strings are those who have equal quantity of 'L' and 'R' characters.\n",
    "\n",
    "Given a balanced string s split it in the maximum amount of balanced strings.\n",
    "\n",
    "Return the maximum amount of splitted balanced strings.\n",
    "\n",
    "Example 1:\n",
    "\n",
    "Input: s = \"RLRRLLRLRL\"\n",
    "Output: 4\n",
    "Explanation: s can be split into \"RL\", \"RRLL\", \"RL\", \"RL\", each substring contains same number of 'L' and 'R'.\n",
    "\n",
    "Example 2:\n",
    "\n",
    "Input: s = \"RLLLLRRRLR\"\n",
    "Output: 3\n",
    "Explanation: s can be split into \"RL\", \"LLLRRR\", \"LR\", each substring contains same number of 'L' and 'R'.\n",
    "\n",
    "\"\"\"\n",
    "class Solution:\n",
    "    def balancedStringSplit(self, s: str) -> int:\n",
    "#         print(s)\n",
    "        Hash = dict();\n",
    "        count = 0\n",
    "        for char in s:\n",
    "            if char not in Hash:\n",
    "                Hash[char] = 1\n",
    "            else:\n",
    "                Hash[char] = Hash[char] + 1\n",
    "            if 'R' in Hash and 'L' in Hash and Hash['R'] == Hash['L']:\n",
    "                count += 1\n",
    "                Hash = dict()\n",
    "#         print(Hash)\n",
    "#         print(count)\n",
    "        return count\n",
    "\n",
    "sol = Solution();\n",
    "print(sol.balancedStringSplit(\"RLLLLRRRLR\"))\n",
    "print(sol.balancedStringSplit(\"RLRRLLRLRL\"))"
   ]
  },
  {
   "cell_type": "code",
   "execution_count": 8,
   "metadata": {},
   "outputs": [
    {
     "name": "stdout",
     "output_type": "stream",
     "text": [
      "hello\n"
     ]
    }
   ],
   "source": [
    "\"\"\"\n",
    "709. To Lower Case\n",
    "Implement function ToLowerCase() that has a string parameter str, and returns the same string in lowercase.\n",
    "\n",
    "\n",
    "Example 1:\n",
    "\n",
    "Input: \"Hello\"\n",
    "Output: \"hello\"\n",
    "\"\"\"\n",
    "class Solution:\n",
    "    def toLowerCase(self, str: str) -> str:\n",
    "        s= 'HackerRank.com presents \"Pythonist 2\".'\n",
    "        ASCII = [ord(c)  for c in str]\n",
    "        ASCII \n",
    "        Char_list = []\n",
    "        for i in ASCII :\n",
    "            if  i >= 97 and i<=122 :\n",
    "                Char_list.append(chr(i))\n",
    "            elif i >= 65 and i<=90 : ## capital to small\n",
    "                Char_list.append(chr(i+32))\n",
    "            else:\n",
    "                Char_list.append(chr(i))\n",
    "\n",
    "\n",
    "        Changed =''.join(Char_list)\n",
    "#         print(Changed)   \n",
    "        return Changed\n",
    "    \n",
    "sol = Solution();\n",
    "print(sol.toLowerCase(\"Hello\"))"
   ]
  },
  {
   "cell_type": "code",
   "execution_count": null,
   "metadata": {},
   "outputs": [],
   "source": [
    "\"\"\"\n",
    "344. Reverse String\n",
    "\n",
    "Write a function that reverses a string. The input string is given as an array of characters char[].\n",
    "\n",
    "Do not allocate extra space for another array, you must do this by modifying the input array in-place with O(1) extra memory.\n",
    "\n",
    "You may assume all the characters consist of printable ascii characters.\n",
    "\n",
    "\n",
    "Example 1:\n",
    "\n",
    "Input: [\"h\",\"e\",\"l\",\"l\",\"o\"]\n",
    "Output: [\"o\",\"l\",\"l\",\"e\",\"h\"]\n",
    "\"\"\"\n",
    "from typing import List\n",
    "class Solution:\n",
    "    def reverseString(self, s: List[str]) -> None:\n",
    "        \"\"\"\n",
    "        Do not return anything, modify s in-place instead.\n",
    "        \"\"\"\n",
    "        back = -1\n",
    "        for i in range(len(s)//2):\n",
    "            temp = s[i]\n",
    "            s[i] = s[back]\n",
    "            s[back] = temp\n",
    "            back -= 1\n",
    "        print(s)\n",
    "\n",
    "sol = Solution();\n",
    "print(sol.reverseString([\"h\",\"e\",\"l\",\"l\",\"o\"]))"
   ]
  }
 ],
 "metadata": {
  "kernelspec": {
   "display_name": "Python 3",
   "language": "python",
   "name": "python3"
  },
  "language_info": {
   "codemirror_mode": {
    "name": "ipython",
    "version": 3
   },
   "file_extension": ".py",
   "mimetype": "text/x-python",
   "name": "python",
   "nbconvert_exporter": "python",
   "pygments_lexer": "ipython3",
   "version": "3.6.10"
  }
 },
 "nbformat": 4,
 "nbformat_minor": 2
}
