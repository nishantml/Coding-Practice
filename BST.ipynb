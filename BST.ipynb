{
 "cells": [
  {
   "cell_type": "markdown",
   "metadata": {},
   "source": [
    "## Binary Search Tree Implementation"
   ]
  },
  {
   "cell_type": "code",
   "execution_count": 1,
   "metadata": {},
   "outputs": [
    {
     "name": "stdout",
     "output_type": "stream",
     "text": [
      "Search {10} in bst 10\n",
      "Search {21} in bst False\n",
      "\n",
      "Inorder traverse of BST\n",
      "1\n",
      "3\n",
      "4\n",
      "5\n",
      "6\n",
      "10\n",
      "Breadth First Search\n"
     ]
    },
    {
     "data": {
      "text/plain": [
       "[1, 3, 10, 4, 5, 6]"
      ]
     },
     "execution_count": 1,
     "metadata": {},
     "output_type": "execute_result"
    }
   ],
   "source": [
    "class Node: \n",
    "    def __init__(self,key): \n",
    "        self.left = None\n",
    "        self.right = None\n",
    "        self.val = key \n",
    "        \n",
    "class BST:\n",
    "    def __init__(self):\n",
    "        self.root = None\n",
    "        self.length = 0\n",
    "        \n",
    "    def insert(self,value):\n",
    "        new_node = Node(value)\n",
    "        \n",
    "        if self.root is None: \n",
    "            self.root = new_node\n",
    "            self.length +=1\n",
    "        else:\n",
    "            currentNode = self.root\n",
    "            while(True):\n",
    "#                 print(currentNode.val)\n",
    "                if currentNode.val < new_node.val: \n",
    "                    if currentNode.right is None: \n",
    "                        currentNode.right = new_node\n",
    "                        self.length +=1\n",
    "                        return self.length\n",
    "                    else: \n",
    "                        currentNode = currentNode.right\n",
    "                else: \n",
    "                    if currentNode.left is None: \n",
    "                        currentNode.left = new_node \n",
    "                        self.length +=1\n",
    "                        return self.length\n",
    "                    else: \n",
    "                        currentNode = currentNode.left\n",
    "                    \n",
    "    def lookup(self,value):\n",
    "        if self.root == None:\n",
    "            return False\n",
    "        currentNode = self.root;\n",
    "        while(currentNode):\n",
    "            if(value < currentNode.val):\n",
    "                currentNode = currentNode.left\n",
    "            elif(value > currentNode.val):\n",
    "                currentNode = currentNode.right\n",
    "            elif(value == currentNode.val):\n",
    "                return currentNode.val\n",
    "                \n",
    "        return False \n",
    "    \n",
    "    # inoder traversal of the BST \n",
    "    def inorder(self,root): \n",
    "        currentNode = root\n",
    "        if root: \n",
    "            self.inorder(root.left) \n",
    "            print(root.val) \n",
    "            self.inorder(root.right)\n",
    "            \n",
    "    \n",
    "            \n",
    "    def breadthFirstSearch(self):\n",
    "        \"\"\"Breadth First Search\"\"\"\n",
    "        currentNode = self.root\n",
    "        queue = []\n",
    "        bfsList = []\n",
    "        queue.append(currentNode)\n",
    "        \n",
    "        while len(queue) > 0:\n",
    "            currentNode = queue.pop(0)\n",
    "#             print(currentNode.val)\n",
    "            bfsList.append(currentNode.val)\n",
    "            \n",
    "            if currentNode.left:\n",
    "                queue.append(currentNode.left)\n",
    "            if currentNode.right:\n",
    "                queue.append(currentNode.right)\n",
    "                \n",
    "        return bfsList\n",
    "            \n",
    "        \n",
    "        \n",
    "bst = BST()\n",
    "bst.insert(1)\n",
    "bst.insert(3)\n",
    "bst.insert(10)\n",
    "bst.insert(4)\n",
    "bst.insert(5)\n",
    "bst.insert(6)\n",
    "print('Search {10} in bst',bst.lookup(10))\n",
    "print('Search {21} in bst',bst.lookup(21))\n",
    "print('\\nInorder traverse of BST')\n",
    "bst.inorder(bst.root)\n",
    "print(bst.breadthFirstSearch.__doc__)\n",
    "bst.breadthFirstSearch()"
   ]
  },
  {
   "cell_type": "code",
   "execution_count": null,
   "metadata": {},
   "outputs": [],
   "source": []
  }
 ],
 "metadata": {
  "kernelspec": {
   "display_name": "Python 3",
   "language": "python",
   "name": "python3"
  },
  "language_info": {
   "codemirror_mode": {
    "name": "ipython",
    "version": 3
   },
   "file_extension": ".py",
   "mimetype": "text/x-python",
   "name": "python",
   "nbconvert_exporter": "python",
   "pygments_lexer": "ipython3",
   "version": "3.7.4"
  }
 },
 "nbformat": 4,
 "nbformat_minor": 2
}
