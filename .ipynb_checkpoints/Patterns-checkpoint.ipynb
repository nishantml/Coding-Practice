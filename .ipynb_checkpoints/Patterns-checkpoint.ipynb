{
 "cells": [
  {
   "cell_type": "code",
   "execution_count": 9,
   "metadata": {},
   "outputs": [
    {
     "name": "stdout",
     "output_type": "stream",
     "text": [
      "A \n",
      "B B \n",
      "C C C \n",
      "D D D D \n",
      "E E E E E \n"
     ]
    }
   ],
   "source": [
    "def alpha(n):\n",
    "    x = 65\n",
    "    for i in range(0, n):\n",
    "        ch = chr(x)\n",
    "        for j in range(0, i + 1):\n",
    "            print(ch, end=\" \")\n",
    "        print(\"\")\n",
    "        x += 1\n",
    "alpha(5)"
   ]
  },
  {
   "cell_type": "code",
   "execution_count": 12,
   "metadata": {},
   "outputs": [
    {
     "name": "stdout",
     "output_type": "stream",
     "text": [
      "A \n",
      "A B \n",
      "A B C \n",
      "A B C D \n",
      "A B C D E \n"
     ]
    }
   ],
   "source": [
    "def alpha2(n):\n",
    "    for i in range(n):\n",
    "        x=65;\n",
    "        for j in range(i+1):\n",
    "            ch = chr(x)\n",
    "            print(ch, end=\" \")\n",
    "            x += 1\n",
    "        print(\"\")\n",
    "        \n",
    "alpha2(5)"
   ]
  },
  {
   "cell_type": "code",
   "execution_count": 17,
   "metadata": {},
   "outputs": [
    {
     "name": "stdout",
     "output_type": "stream",
     "text": [
      "A \n",
      "B C \n",
      "C D E \n",
      "D E F G \n",
      "E F G H I \n"
     ]
    }
   ],
   "source": [
    "def alpha3(n):\n",
    "    for i in range(n):\n",
    "        x=65+i;\n",
    "        for j in range(i+1):\n",
    "            ch = chr(x)\n",
    "            print(ch, end=\" \")\n",
    "            x += 1\n",
    "        print(\"\")\n",
    "        \n",
    "alpha3(5)"
   ]
  },
  {
   "cell_type": "code",
   "execution_count": 11,
   "metadata": {},
   "outputs": [
    {
     "name": "stdout",
     "output_type": "stream",
     "text": [
      "1 \n",
      "2 3 4 \n",
      "5 6 7 8 9 \n"
     ]
    }
   ],
   "source": [
    "def num1(rows,countStart):\n",
    "    steps = 1\n",
    "    count =countStart\n",
    "    for i in range(rows):\n",
    "        for j in range(steps):\n",
    "            print(count,end=\" \")\n",
    "            count +=1\n",
    "        print(\"\") \n",
    "        steps=steps+2\n",
    "        \n",
    "num1(3,1)"
   ]
  },
  {
   "cell_type": "code",
   "execution_count": 19,
   "metadata": {},
   "outputs": [
    {
     "name": "stdout",
     "output_type": "stream",
     "text": [
      "1 \n",
      "2 1 \n",
      "3 2 1 \n",
      "4 3 2 1 \n",
      "5 4 3 2 1 \n",
      "6 5 4 3 2 1 \n"
     ]
    }
   ],
   "source": [
    "def num2(N):\n",
    "    for i in range(N):\n",
    "        start = i+1\n",
    "        for j in range(i+1):\n",
    "            print(start,end=\" \")\n",
    "            start -=1\n",
    "        print(\"\")\n",
    "        \n",
    "num2(6)"
   ]
  },
  {
   "cell_type": "code",
   "execution_count": 28,
   "metadata": {},
   "outputs": [
    {
     "name": "stdout",
     "output_type": "stream",
     "text": [
      "1 \n",
      "2 3 \n",
      "4 5 6 \n",
      "7 8 9 10 \n"
     ]
    }
   ],
   "source": [
    "def num3(N):\n",
    "    count =0\n",
    "    for i in range(N):\n",
    "        for j in range(i+1):\n",
    "            count+=1\n",
    "            print(count,end=\" \")\n",
    "        print(\"\")\n",
    "        \n",
    "num3(4)"
   ]
  },
  {
   "cell_type": "code",
   "execution_count": 14,
   "metadata": {},
   "outputs": [
    {
     "name": "stdout",
     "output_type": "stream",
     "text": [
      "2 \n",
      "4 2 \n",
      "6 4 2 \n",
      "8 6 4 2 \n",
      "10 8 6 4 2 \n",
      "12 10 8 6 4 2 \n"
     ]
    }
   ],
   "source": [
    "def num4(N):\n",
    "    for i in range(N):\n",
    "        start = i+1\n",
    "        for j in range(i+1):\n",
    "            print(start*2,end=\" \")\n",
    "            start -=1\n",
    "        print(\"\")\n",
    "        \n",
    "num4(6)"
   ]
  },
  {
   "cell_type": "code",
   "execution_count": 13,
   "metadata": {},
   "outputs": [
    {
     "name": "stdout",
     "output_type": "stream",
     "text": [
      "1 \n",
      "3 2 \n",
      "6 5 4 \n",
      "10 9 8 7 \n"
     ]
    }
   ],
   "source": [
    "def num5(N):\n",
    "    iteration = 1\n",
    "    prev = 1\n",
    "    stage = 2\n",
    "    for i in range(1,N+1):\n",
    "        for j in range(i):\n",
    "            print(iteration,end=\" \")\n",
    "            iteration -=1\n",
    "        iteration = prev + stage\n",
    "        stage +=1\n",
    "        prev = iteration\n",
    "        print(\"\")\n",
    "        \n",
    "num5(4)"
   ]
  },
  {
   "cell_type": "code",
   "execution_count": 4,
   "metadata": {},
   "outputs": [
    {
     "name": "stdout",
     "output_type": "stream",
     "text": [
      "1 2 3 4 5 6 \n",
      "1 2 3 4 5 \n",
      "1 2 3 4 \n",
      "1 2 3 \n",
      "1 2 \n",
      "1 \n"
     ]
    }
   ],
   "source": [
    "def num6(N):\n",
    "    for i in range(N,0,-1):\n",
    "        for j in range(i):\n",
    "            print(j+1,end=\" \")\n",
    "        print(\"\")\n",
    "num6(6)"
   ]
  },
  {
   "cell_type": "code",
   "execution_count": 3,
   "metadata": {},
   "outputs": [
    {
     "name": "stdout",
     "output_type": "stream",
     "text": [
      "1 2 3 4 \n",
      "5 6 7 \n",
      "8 9 \n",
      "10 \n"
     ]
    }
   ],
   "source": [
    "def num7(N):\n",
    "    count =0\n",
    "    for i in range(N,0,-1):\n",
    "        for j in range(i):\n",
    "            count += 1\n",
    "            print(count,end=\" \")\n",
    "        print(\"\")\n",
    "        \n",
    "num7(4)   "
   ]
  },
  {
   "cell_type": "code",
   "execution_count": null,
   "metadata": {},
   "outputs": [],
   "source": []
  }
 ],
 "metadata": {
  "kernelspec": {
   "display_name": "Python 3",
   "language": "python",
   "name": "python3"
  },
  "language_info": {
   "codemirror_mode": {
    "name": "ipython",
    "version": 3
   },
   "file_extension": ".py",
   "mimetype": "text/x-python",
   "name": "python",
   "nbconvert_exporter": "python",
   "pygments_lexer": "ipython3",
   "version": "3.7.4"
  }
 },
 "nbformat": 4,
 "nbformat_minor": 2
}
