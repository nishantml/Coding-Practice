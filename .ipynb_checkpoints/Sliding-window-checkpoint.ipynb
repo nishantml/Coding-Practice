{
 "cells": [
  {
   "cell_type": "markdown",
   "metadata": {},
   "source": [
    "## Sliding-Window"
   ]
  },
  {
   "cell_type": "code",
   "execution_count": 13,
   "metadata": {},
   "outputs": [
    {
     "name": "stdout",
     "output_type": "stream",
     "text": [
      "700\n",
      "13\n"
     ]
    }
   ],
   "source": [
    "\"\"\"\n",
    "Max Sum Subarray of size K\n",
    "\n",
    "Given an array of integers and a number K. Write a program to find the maximum sum of a subarray of size K.\n",
    "\n",
    "Input:\n",
    "First line of input contains a single integer T which denotes the number of test cases. Then T test cases follows. First line of each test case contains two space separated integers N and K where N denotes the number of elements. Second line of each test case contains N space separated integers which denotes the elements of the array.\n",
    "Output:\n",
    "For each test case print the maximum sum of a subarray of size K.\n",
    "\n",
    "Constraints:\n",
    "1<=T<=100\n",
    "1<=N<=105\n",
    "1<=K<=N\n",
    "\n",
    "Example:\n",
    "Input:\n",
    "2\n",
    "4 2\n",
    "100 200 300 400\n",
    "9 4\n",
    "1 4 2 10 23 3 1 0 20\n",
    "Output:\n",
    "700\n",
    "39\n",
    "\"\"\"\n",
    "\n",
    "def MaxSumSubarrayofsizeK(nums,k):\n",
    "    wSum = 0\n",
    "    maxSum = 0\n",
    "    for i in range(0,len(nums)-k+1):\n",
    "        wSum = sum(nums[i:i+k])\n",
    "        maxSum = max(wSum,maxSum)\n",
    "    return maxSum\n",
    "        \n",
    "        \n",
    "        \n",
    "print(MaxSumSubarrayofsizeK([100, 200, 300, 400],2))\n",
    "print(MaxSumSubarrayofsizeK([1,9,-1,-2,7,3,-1,2],4))  "
   ]
  },
  {
   "cell_type": "code",
   "execution_count": null,
   "metadata": {},
   "outputs": [],
   "source": []
  }
 ],
 "metadata": {
  "kernelspec": {
   "display_name": "Python 3",
   "language": "python",
   "name": "python3"
  },
  "language_info": {
   "codemirror_mode": {
    "name": "ipython",
    "version": 3
   },
   "file_extension": ".py",
   "mimetype": "text/x-python",
   "name": "python",
   "nbconvert_exporter": "python",
   "pygments_lexer": "ipython3",
   "version": "3.7.4"
  }
 },
 "nbformat": 4,
 "nbformat_minor": 2
}
