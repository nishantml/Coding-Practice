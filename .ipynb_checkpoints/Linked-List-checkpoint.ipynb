{
 "cells": [
  {
   "cell_type": "code",
   "execution_count": 15,
   "metadata": {},
   "outputs": [],
   "source": [
    "def driverCode(numList):\n",
    "    mainNode = ListNode(0);\n",
    "    curr = mainNode;\n",
    "    for i in numList:\n",
    "        newNode = ListNode(i)\n",
    "        curr.next = newNode;\n",
    "        curr = curr.next;\n",
    "    return mainNode"
   ]
  },
  {
   "cell_type": "code",
   "execution_count": 18,
   "metadata": {},
   "outputs": [
    {
     "name": "stdout",
     "output_type": "stream",
     "text": [
      "3\n",
      "7\n"
     ]
    }
   ],
   "source": [
    "\"\"\"\n",
    "Url -> https://practice.geeksforgeeks.org/problems/finding-middle-element-in-a-linked-list/1\n",
    "\n",
    "Finding middle element in a linked list\n",
    "\n",
    "Given a singly linked list of N nodes. The task is to find middle of the linked list. For example, if given linked list is 1->2->3->4->5 then output should be 3.\n",
    "If there are even nodes, then there would be two middle nodes, we need to print second middle element. For example, if given linked list is 1->2->3->4->5->6 then output should be 4.\n",
    "\n",
    "Input:\n",
    "First line of input contains number of testcases T. For each testcase, first line of input contains length of linked list and next line contains data of nodes of linked list.\n",
    "\n",
    "Output:\n",
    "For each testcase, there will be a single line of output containing data of middle element of linked list.\n",
    "\n",
    "User Task:\n",
    "The task is to complete the function getMiddle() which takes head reference as the only argument and should return the data at the middle node of linked list.\n",
    "\n",
    "Constraints:\n",
    "1 <= T <= 100\n",
    "1 <= N <= 100\n",
    "\n",
    "Example:\n",
    "Input:\n",
    "2\n",
    "5\n",
    "1 2 3 4 5\n",
    "6\n",
    "2 4 6 7 5 1\n",
    "\n",
    "Output:\n",
    "3\n",
    "7\n",
    "\n",
    "Explanation:\n",
    "Testcase 1: Since, there are 5 elements, therefore 3 is the middle element at index 2 (0-based indexing).\n",
    "\n",
    "\"\"\"\n",
    "\n",
    "# Definition for singly-linked list.\n",
    "class ListNode:\n",
    "    def __init__(self, x):\n",
    "        self.val = x\n",
    "        self.next = None\n",
    "\n",
    "class Solution:\n",
    "    def Findingmiddleelementinalinkedlist(self, head: ListNode) -> int:\n",
    "        curr = head\n",
    "        currList = []\n",
    "        while curr != None:\n",
    "#             print(curr.val)\n",
    "            currList.append(curr.val)\n",
    "            curr = curr.next\n",
    "        middle = len(currList)//2\n",
    "        return currList[middle]\n",
    "        \n",
    "\n",
    "# driver code \n",
    "numList = [1 ,2 ,3, 4, 5]\n",
    "numList1 = [2 ,4 ,6 ,7, 5, 1]\n",
    "\n",
    "mainNode = driverCode(numList)\n",
    "mainNode1 = driverCode(numList1)\n",
    "sol = Solution()\n",
    "print(sol.Findingmiddleelementinalinkedlist(mainNode.next))\n",
    "print(sol.Findingmiddleelementinalinkedlist(mainNode1.next))"
   ]
  },
  {
   "cell_type": "code",
   "execution_count": null,
   "metadata": {},
   "outputs": [],
   "source": []
  }
 ],
 "metadata": {
  "kernelspec": {
   "display_name": "Python 3",
   "language": "python",
   "name": "python3"
  },
  "language_info": {
   "codemirror_mode": {
    "name": "ipython",
    "version": 3
   },
   "file_extension": ".py",
   "mimetype": "text/x-python",
   "name": "python",
   "nbconvert_exporter": "python",
   "pygments_lexer": "ipython3",
   "version": "3.7.4"
  }
 },
 "nbformat": 4,
 "nbformat_minor": 2
}
